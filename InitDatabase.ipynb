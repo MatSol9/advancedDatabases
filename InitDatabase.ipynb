{
 "cells": [
  {
   "cell_type": "code",
   "execution_count": 1,
   "metadata": {},
   "outputs": [],
   "source": [
    "# importy\n",
    "import shutil\n",
    "import os\n",
    "import pandas as pd\n",
    "\n",
    "import sqlalchemy as sql\n",
    "from sqlalchemy import create_engine, select, MetaData, Table\n",
    "from sqlalchemy import Column, Text, Integer, Float, ForeignKey, PrimaryKeyConstraint\n",
    "from sqlalchemy.orm import sessionmaker, relationship\n",
    "from sqlalchemy.ext.declarative import declarative_base"
   ]
  },
  {
   "cell_type": "code",
   "execution_count": 2,
   "metadata": {},
   "outputs": [],
   "source": [
    "# Zmienne globalne\n",
    "dbTemplateName = \"InitialDatabase.db\"\n",
    "dbName = \"StockData.db\""
   ]
  },
  {
   "cell_type": "code",
   "execution_count": 3,
   "metadata": {},
   "outputs": [
    {
     "name": "stdout",
     "output_type": "stream",
     "text": [
      "Usuwanie starej bazy: StockData.db\n"
     ]
    },
    {
     "ename": "PermissionError",
     "evalue": "[WinError 32] Proces nie może uzyskać dostępu do pliku, ponieważ jest on używany przez inny proces: 'StockData.db'",
     "output_type": "error",
     "traceback": [
      "\u001b[1;31m---------------------------------------------------------------------------\u001b[0m",
      "\u001b[1;31mPermissionError\u001b[0m                           Traceback (most recent call last)",
      "\u001b[1;32m~\\AppData\\Local\\Temp/ipykernel_5228/278830083.py\u001b[0m in \u001b[0;36m<module>\u001b[1;34m\u001b[0m\n\u001b[0;32m      2\u001b[0m \u001b[1;32mif\u001b[0m \u001b[0mos\u001b[0m\u001b[1;33m.\u001b[0m\u001b[0mpath\u001b[0m\u001b[1;33m.\u001b[0m\u001b[0misfile\u001b[0m\u001b[1;33m(\u001b[0m\u001b[0mdbName\u001b[0m\u001b[1;33m)\u001b[0m\u001b[1;33m:\u001b[0m\u001b[1;33m\u001b[0m\u001b[1;33m\u001b[0m\u001b[0m\n\u001b[0;32m      3\u001b[0m     \u001b[0mprint\u001b[0m\u001b[1;33m(\u001b[0m\u001b[1;34m\"Usuwanie starej bazy: \"\u001b[0m \u001b[1;33m+\u001b[0m \u001b[0mdbName\u001b[0m\u001b[1;33m)\u001b[0m\u001b[1;33m\u001b[0m\u001b[1;33m\u001b[0m\u001b[0m\n\u001b[1;32m----> 4\u001b[1;33m     \u001b[0mos\u001b[0m\u001b[1;33m.\u001b[0m\u001b[0mremove\u001b[0m\u001b[1;33m(\u001b[0m\u001b[0mdbName\u001b[0m\u001b[1;33m)\u001b[0m\u001b[1;33m\u001b[0m\u001b[1;33m\u001b[0m\u001b[0m\n\u001b[0m\u001b[0;32m      5\u001b[0m \u001b[1;31m# Kopiowanie pliku szablonu bazy danych\u001b[0m\u001b[1;33m\u001b[0m\u001b[1;33m\u001b[0m\u001b[0m\n\u001b[0;32m      6\u001b[0m \u001b[0mprint\u001b[0m\u001b[1;33m(\u001b[0m\u001b[1;34m\"Kopiowanie szablonu bazy danych\"\u001b[0m\u001b[1;33m)\u001b[0m\u001b[1;33m\u001b[0m\u001b[1;33m\u001b[0m\u001b[0m\n",
      "\u001b[1;31mPermissionError\u001b[0m: [WinError 32] Proces nie może uzyskać dostępu do pliku, ponieważ jest on używany przez inny proces: 'StockData.db'"
     ]
    }
   ],
   "source": [
    "# Usuwanie starej instancji bazy danych jeżeli istnieje\n",
    "if os.path.isfile(dbName):\n",
    "    print(\"Usuwanie starej bazy: \" + dbName)\n",
    "    os.remove(dbName)\n",
    "# Kopiowanie pliku szablonu bazy danych\n",
    "print(\"Kopiowanie szablonu bazy danych\")\n",
    "shutil.copyfile(os.path.join(\"csv\", dbTemplateName), dbName)"
   ]
  },
  {
   "cell_type": "code",
   "execution_count": 4,
   "metadata": {},
   "outputs": [
    {
     "name": "stdout",
     "output_type": "stream",
     "text": [
      "Lista tablic: ['Companies', 'Records']\n"
     ]
    }
   ],
   "source": [
    "# Nawiązywanie połączenia z bazą\n",
    "db_string = 'sqlite:///' + dbName\n",
    "engine = create_engine(db_string)\n",
    "metadata = MetaData()\n",
    "insp = sql.inspect(engine)\n",
    "\n",
    "session = (sessionmaker(bind=engine))()\n",
    "Base = declarative_base()\n",
    "\n",
    "# Pobieranie listy tablic\n",
    "print(\"Lista tablic:\", insp.get_table_names())"
   ]
  },
  {
   "cell_type": "code",
   "execution_count": 5,
   "metadata": {},
   "outputs": [],
   "source": [
    "# Tworzenie klas danych\n",
    "class Companies(Base):\n",
    "    __tablename__ = 'Companies'\n",
    "    CompanyID = Column(Integer, primary_key=True)\n",
    "    CompanyName = Column(Text)\n",
    "    CompanyType = Column(Text)\n",
    "    CompanyDate = Column(Integer)\n",
    "    \n",
    "    def __str__(self):\n",
    "        CompanyInfo = self.CompanyName + \" \" + self.CompanyType + \", zołożono: \"\n",
    "        print(\"GeneratedInfo\", CompanyInfo)\n",
    "        return CompanyInfo\n",
    "\n",
    "\n",
    "class Records(Base):\n",
    "    __tablename__ = 'Records'\n",
    "    RecordID = Column(Integer, primary_key=True)\n",
    "    CompanyID = Column(Integer, ForeignKey('Companies.CompanyID'))\n",
    "    Date  = Column(Integer)\n",
    "    Open  = Column(Float)\n",
    "    High  = Column(Float)\n",
    "    Low   = Column(Float)\n",
    "    Close = Column(Float)\n",
    "    Volume = Column(Integer)"
   ]
  },
  {
   "cell_type": "code",
   "execution_count": 6,
   "metadata": {},
   "outputs": [
    {
     "name": "stdout",
     "output_type": "stream",
     "text": [
      "Lista plików csv z danymi:  ['Enea.csv', 'Energa.csv', 'PGE.csv', 'Tauron.csv', 'WIG20.csv']\n",
      "Załadowano 5 plików csv z danymi typu <class 'pandas.core.frame.DataFrame'>\n"
     ]
    }
   ],
   "source": [
    "# Pozyskiwanie listy plików csv\n",
    "CsvList = os.listdir('csv')\n",
    "CsvList.remove(dbTemplateName)\n",
    "print(\"Lista plików csv z danymi: \", CsvList)\n",
    "\n",
    "# Ładowanie plików\n",
    "CsvData = {}\n",
    "for i in CsvList:\n",
    "    CsvData[i[:-4]] = pd.read_csv(os.path.join('csv', i), header=0)\n",
    "print(\"Załadowano %i plików csv z danymi typu %s\" % (len(CsvList), str(type(CsvData[CsvList[0][:-4]]))))"
   ]
  },
  {
   "cell_type": "code",
   "execution_count": 7,
   "metadata": {},
   "outputs": [],
   "source": [
    "# Zapisywanie danych do bazy\n",
    "\n",
    "# Tworzenie klucza głównego\n",
    "key = 1\n",
    "\n",
    "# Interacja po danych\n",
    "for company in CsvData.keys():\n",
    "    # Pozyskiwanie ID firmy\n",
    "    id = session.query(Companies).filter_by(CompanyName = company).all()[0].CompanyID\n",
    "    # Pozyskiwanie listy elementów\n",
    "    RowCount = CsvData[company].index\n",
    "\n",
    "    # Pozyskiwanie łącz do kolumn danych\n",
    "    Date_col = CsvData[company][\"Date\"]\n",
    "    Open_col  = CsvData[company][\"Open\"]\n",
    "    High_col  = CsvData[company][\"High\"]\n",
    "    Low_col   = CsvData[company][\"Low\"]\n",
    "    Close_col = CsvData[company][\"Close\"]\n",
    "    Volume_col = CsvData[company][\"Volume\"]\n",
    "\n",
    "    # Tworzenie listy dodawanych elementów\n",
    "    RowsToInsert = []\n",
    "    for i in RowCount:\n",
    "        RowsToInsert.append(Records(RecordID = key,\n",
    "            CompanyID = id,\n",
    "            Date  = int(Date_col[i][:-9].replace('-', '')),\n",
    "            Open  = float(Open_col[i].replace(',', '.')),\n",
    "            High  = float(High_col[i].replace(',', '.')),\n",
    "            Low   = float(Low_col[i].replace(',', '.')),\n",
    "            Close = float(Close_col[i].replace(',', '.')),\n",
    "            Volume = int(Volume_col[i])))\n",
    "        key += 1\n",
    "    # Wgrywanie i zapis danych\n",
    "    session.add_all(RowsToInsert)\n",
    "    session.commit()\n",
    "        \n"
   ]
  },
  {
   "cell_type": "code",
   "execution_count": null,
   "metadata": {},
   "outputs": [],
   "source": [
    "# Testowe pobranie danych\n",
    "# Dotyczy wszystkich bloków poniżej"
   ]
  },
  {
   "cell_type": "code",
   "execution_count": 5,
   "metadata": {},
   "outputs": [
    {
     "name": "stdout",
     "output_type": "stream",
     "text": [
      "[<__main__.Records object at 0x0000015BF4326550>]\n"
     ]
    }
   ],
   "source": [
    "session_task = session.query(Records).filter_by(CompanyID = 1).filter(Records.Date < 20220104)\n",
    "task_result = session_task.all()\n",
    "print(task_result)"
   ]
  },
  {
   "cell_type": "code",
   "execution_count": 11,
   "metadata": {},
   "outputs": [
    {
     "name": "stdout",
     "output_type": "stream",
     "text": [
      "Mapper join: \n",
      "SELECT \"Companies\".\"CompanyName\" \n",
      "FROM \"Companies\"\n",
      "--------------------------------------------------\n",
      "['brak', 'WIG20', 'Tauron', 'Energa', 'PGE', 'Enea']\n",
      "('brak', 'WIG20', 'Tauron', 'Energa', 'PGE', 'Enea')\n"
     ]
    }
   ],
   "source": [
    "mapper_task = select(Companies.CompanyName)\n",
    "print('Mapper join: ')\n",
    "print(mapper_task)\n",
    "mapper_results = engine.execute(mapper_task).fetchall()\n",
    "print('--------------------------------------------------')\n",
    "companiesList = [mapper_results[i][0] for i in range(len(mapper_results))]\n",
    "print([\"brak\"] + companiesList)\n",
    "print(tuple([\"brak\"] + companiesList))\n"
   ]
  },
  {
   "cell_type": "code",
   "execution_count": 17,
   "metadata": {},
   "outputs": [
    {
     "name": "stdout",
     "output_type": "stream",
     "text": [
      "[20220103, 20220104, 20220105, 20220107, 20220110, 20220111, 20220112, 20220113, 20220114, 20220117, 20220118, 20220119, 20220120, 20220121, 20220124, 20220125, 20220126, 20220127, 20220128, 20220131, 20220201, 20220202, 20220203, 20220204, 20220207, 20220208, 20220209, 20220210, 20220211, 20220214, 20220215, 20220216, 20220217, 20220218, 20220221, 20220222, 20220223, 20220224, 20220225, 20220228]\n"
     ]
    }
   ],
   "source": [
    "companydata = session.query(Records)\\\n",
    "        .filter_by(CompanyID = 1)\\\n",
    "        .filter(Records.Date > 20220101)\\\n",
    "        .filter(Records.Date < 20220301)\\\n",
    "        .all()\n",
    "\n",
    "datX = [companydata[i].Date\\\n",
    "    for i in range(len(companydata))]\n",
    "print(datX)"
   ]
  },
  {
   "cell_type": "code",
   "execution_count": 7,
   "metadata": {},
   "outputs": [
    {
     "name": "stdout",
     "output_type": "stream",
     "text": [
      "GeneratedInfo Enea s.a., zołożono: \n",
      "Enea s.a., zołożono: \n"
     ]
    }
   ],
   "source": [
    "print(session.query(Companies).filter_by(CompanyName = \"Enea\").all()[0].__str__())"
   ]
  },
  {
   "cell_type": "code",
   "execution_count": 8,
   "metadata": {},
   "outputs": [
    {
     "data": {
      "text/plain": [
       "0"
      ]
     },
     "execution_count": 8,
     "metadata": {},
     "output_type": "execute_result"
    }
   ],
   "source": [
    "os.system(\"pyinstaller --help\")"
   ]
  }
 ],
 "metadata": {
  "interpreter": {
   "hash": "31cb55c07e243e050a07b481ec3dcc6456753b6dddae1baa01c0b5ad40d76c57"
  },
  "kernelspec": {
   "display_name": "Python 3.9.7 ('base')",
   "language": "python",
   "name": "python3"
  },
  "language_info": {
   "codemirror_mode": {
    "name": "ipython",
    "version": 3
   },
   "file_extension": ".py",
   "mimetype": "text/x-python",
   "name": "python",
   "nbconvert_exporter": "python",
   "pygments_lexer": "ipython3",
   "version": "3.9.7"
  },
  "orig_nbformat": 4
 },
 "nbformat": 4,
 "nbformat_minor": 2
}
